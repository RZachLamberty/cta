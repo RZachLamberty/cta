{
 "cells": [
  {
   "cell_type": "code",
   "execution_count": 1,
   "metadata": {
    "collapsed": true
   },
   "outputs": [],
   "source": [
    "%matplotlib inline"
   ]
  },
  {
   "cell_type": "markdown",
   "metadata": {},
   "source": [
    "# CTA Data: Poles of Isolation"
   ]
  },
  {
   "cell_type": "markdown",
   "metadata": {},
   "source": [
    "A while back I saw an interesting article on [\"poles of isolation\" (aka \"poles of inaccessability\")](https://en.wikipedia.org/wiki/Pole_of_inaccessibility). The term _pole of isolation_ is a somewhat archaic term for a very landlocked place. It just so happens that my home state (South Dakota) is a particularly \"isolated\" place by this metric (you can see this for yourself [here](https://upload.wikimedia.org/wikipedia/commons/a/ad/Distancia_a_la_costa.png)).\n",
    "\n",
    "This got me thinking about my *current* home, Chicago, IL. I had been talking with my wife some days prior about how awful it must be to live far from a train. In Chicago, the \"El\" is a modern equivalent to seafaring -- if you aren't near the el, you aren't going to get anywhere fast (if at all). The natural question, then, is what are Chicago's poles of inaccessibility?\n",
    "\n",
    "The short answer is: exactly where you expect, and exactly where residents would need it most."
   ]
  },
  {
   "cell_type": "markdown",
   "metadata": {},
   "source": [
    "## The Data"
   ]
  },
  {
   "cell_type": "markdown",
   "metadata": {},
   "source": [
    "For most of this data in this project I am indebted to the good folks over at the [City of Chicago Data Portal](https://data.cityofchicago.org/). In particular, there are [quite a few awesome data sets](https://data.cityofchicago.org/Transportation/CTA-List-of-CTA-Datasets/pnau-cf66) regarding the Chicago Transit Authority (CTA). I used a couple from this collection (lists of stations, their latitude/longitude locations), as well as a pretty nifty city border KML file. The details can be found in the `bootstraph.sh` script which collects them.\n",
    "\n",
    "I have put separated the different conceptual objects into different modules, so let me quickly go through those modules and their uses here."
   ]
  },
  {
   "cell_type": "markdown",
   "metadata": {},
   "source": [
    "### `citybounds.py`"
   ]
  },
  {
   "cell_type": "code",
   "execution_count": 2,
   "metadata": {
    "collapsed": false
   },
   "outputs": [],
   "source": [
    "import cta.citybounds as citybounds"
   ]
  },
  {
   "cell_type": "markdown",
   "metadata": {},
   "source": [
    "This module is designed to handle the acquisition and manipulation of the geospatial boundaries of the city of Chicago. The kml file stipulating these boundaries is downloaded by the `bootstrap.sh` script:\n",
    "\n",
    "```bash\n",
    "bash bootstraph.sh\n",
    "```\n",
    "\n",
    "and then the csv file will be created via the function `kml_to_csv`:"
   ]
  },
  {
   "cell_type": "code",
   "execution_count": 3,
   "metadata": {
    "collapsed": true
   },
   "outputs": [],
   "source": [
    "citybounds.kml_to_csv()"
   ]
  },
  {
   "cell_type": "markdown",
   "metadata": {},
   "source": [
    "With that part done, we can now load the city boundaries and do some fancy plotting magix"
   ]
  },
  {
   "cell_type": "code",
   "execution_count": 4,
   "metadata": {
    "collapsed": false
   },
   "outputs": [
    {
     "data": {
      "text/html": [
       "<div>\n",
       "<table border=\"1\" class=\"dataframe\">\n",
       "  <thead>\n",
       "    <tr style=\"text-align: right;\">\n",
       "      <th></th>\n",
       "      <th>loop</th>\n",
       "      <th>latitude</th>\n",
       "      <th>longitude</th>\n",
       "    </tr>\n",
       "  </thead>\n",
       "  <tbody>\n",
       "    <tr>\n",
       "      <th>0</th>\n",
       "      <td>0</td>\n",
       "      <td>42.0213</td>\n",
       "      <td>-87.6642</td>\n",
       "    </tr>\n",
       "    <tr>\n",
       "      <th>1</th>\n",
       "      <td>0</td>\n",
       "      <td>42.0213</td>\n",
       "      <td>-87.6642</td>\n",
       "    </tr>\n",
       "    <tr>\n",
       "      <th>2</th>\n",
       "      <td>0</td>\n",
       "      <td>42.0213</td>\n",
       "      <td>-87.6640</td>\n",
       "    </tr>\n",
       "    <tr>\n",
       "      <th>3</th>\n",
       "      <td>0</td>\n",
       "      <td>42.0207</td>\n",
       "      <td>-87.6639</td>\n",
       "    </tr>\n",
       "    <tr>\n",
       "      <th>4</th>\n",
       "      <td>0</td>\n",
       "      <td>42.0207</td>\n",
       "      <td>-87.6639</td>\n",
       "    </tr>\n",
       "  </tbody>\n",
       "</table>\n",
       "</div>"
      ],
      "text/plain": [
       "   loop  latitude  longitude\n",
       "0     0   42.0213   -87.6642\n",
       "1     0   42.0213   -87.6642\n",
       "2     0   42.0213   -87.6640\n",
       "3     0   42.0207   -87.6639\n",
       "4     0   42.0207   -87.6639"
      ]
     },
     "execution_count": 4,
     "metadata": {},
     "output_type": "execute_result"
    }
   ],
   "source": [
    "bpath = citybounds.load_boundary()\n",
    "bpath.head()"
   ]
  },
  {
   "cell_type": "markdown",
   "metadata": {},
   "source": [
    "The `loop` variable is referring to \"loop\" in the geoinformatic sense; Chicago's boundary is composed of three outer loops of (latitude, longitude) coordinates and three inner loops.\n",
    "\n",
    "Coincidentally, learning about those three outer loops was pretty fun -- one, on the far southwest side, is a cemetery called Mount Greenwood Cemetery. It is not a city at all, but rather just an unincorporated tract of land in the greater Cook County.\n",
    "\n",
    "I haven't been ablve to figure out what the northernmost inner track in Chicago (just north of Norridge and Harwood Heights), so bonus points to anyone who knows what that place is.\n",
    "\n",
    "\n",
    "That being said, forget about those places -- I am focused primarily on residents of the city of Chicago. As such, I've created a method which will give me a semi-sparse grid of only points that lay within the city limits:"
   ]
  },
  {
   "cell_type": "code",
   "execution_count": 5,
   "metadata": {
    "collapsed": false
   },
   "outputs": [
    {
     "data": {
      "text/html": [
       "<div>\n",
       "<table border=\"1\" class=\"dataframe\">\n",
       "  <thead>\n",
       "    <tr style=\"text-align: right;\">\n",
       "      <th></th>\n",
       "      <th>latitude</th>\n",
       "      <th>longitude</th>\n",
       "    </tr>\n",
       "  </thead>\n",
       "  <tbody>\n",
       "    <tr>\n",
       "      <th>0</th>\n",
       "      <td>41.648323</td>\n",
       "      <td>-87.616544</td>\n",
       "    </tr>\n",
       "    <tr>\n",
       "      <th>1</th>\n",
       "      <td>41.648323</td>\n",
       "      <td>-87.612342</td>\n",
       "    </tr>\n",
       "    <tr>\n",
       "      <th>2</th>\n",
       "      <td>41.648323</td>\n",
       "      <td>-87.608140</td>\n",
       "    </tr>\n",
       "    <tr>\n",
       "      <th>3</th>\n",
       "      <td>41.648323</td>\n",
       "      <td>-87.603938</td>\n",
       "    </tr>\n",
       "    <tr>\n",
       "      <th>4</th>\n",
       "      <td>41.648323</td>\n",
       "      <td>-87.599736</td>\n",
       "    </tr>\n",
       "  </tbody>\n",
       "</table>\n",
       "</div>"
      ],
      "text/plain": [
       "    latitude  longitude\n",
       "0  41.648323 -87.616544\n",
       "1  41.648323 -87.612342\n",
       "2  41.648323 -87.608140\n",
       "3  41.648323 -87.603938\n",
       "4  41.648323 -87.599736"
      ]
     },
     "execution_count": 5,
     "metadata": {},
     "output_type": "execute_result"
    }
   ],
   "source": [
    "grid = citybounds.build_grid()\n",
    "grid.head()"
   ]
  },
  {
   "cell_type": "markdown",
   "metadata": {},
   "source": [
    "The above method is parsing the csv of boundary points and building the boundary data frame, converting the boundary items into `matplotlib.path` polygon objects, and returning a collection of evenly spaced (in lat and lng) points that lay within those polygons.\n",
    "\n",
    "This scatter plot should look familiar enough for residents of the Windy City:"
   ]
  },
  {
   "cell_type": "code",
   "execution_count": 6,
   "metadata": {
    "collapsed": false
   },
   "outputs": [
    {
     "data": {
      "text/plain": [
       "<matplotlib.axes._subplots.AxesSubplot at 0x7efd649f3890>"
      ]
     },
     "execution_count": 6,
     "metadata": {},
     "output_type": "execute_result"
    },
    {
     "data": {
      "image/png": "[encoded data removed]",
      "text/plain": [
       "<matplotlib.figure.Figure at 0x7efd649f3390>"
      ]
     },
     "metadata": {},
     "output_type": "display_data"
    }
   ],
   "source": [
    "import seaborn as sns\n",
    "grid.plot('longitude', 'latitude', kind='scatter', marker='.')"
   ]
  },
  {
   "cell_type": "markdown",
   "metadata": {},
   "source": [
    "### `trains.py`"
   ]
  },
  {
   "cell_type": "code",
   "execution_count": 7,
   "metadata": {
    "collapsed": true
   },
   "outputs": [],
   "source": [
    "import cta.trains as trains"
   ]
  },
  {
   "cell_type": "markdown",
   "metadata": {
    "collapsed": true
   },
   "source": [
    "To find the distance of each of the above points to a train station, I need to know where the trains are, don't I? Simple enough task, again thanks to the City of Chicago Data Portal: I can pull the train info direct from their RESTful API."
   ]
  },
  {
   "cell_type": "code",
   "execution_count": 8,
   "metadata": {
    "collapsed": false
   },
   "outputs": [
    {
     "data": {
      "text/html": [
       "<div>\n",
       "<table border=\"1\" class=\"dataframe\">\n",
       "  <thead>\n",
       "    <tr style=\"text-align: right;\">\n",
       "      <th></th>\n",
       "      <th>ada</th>\n",
       "      <th>blue</th>\n",
       "      <th>brn</th>\n",
       "      <th>color</th>\n",
       "      <th>direction_id</th>\n",
       "      <th>g</th>\n",
       "      <th>latitude</th>\n",
       "      <th>longitude</th>\n",
       "      <th>map_id</th>\n",
       "      <th>needs_recording</th>\n",
       "      <th>o</th>\n",
       "      <th>p</th>\n",
       "      <th>pexp</th>\n",
       "      <th>pnk</th>\n",
       "      <th>red</th>\n",
       "      <th>station_descriptive_name</th>\n",
       "      <th>station_name</th>\n",
       "      <th>stop_id</th>\n",
       "      <th>stop_name</th>\n",
       "      <th>y</th>\n",
       "    </tr>\n",
       "  </thead>\n",
       "  <tbody>\n",
       "    <tr>\n",
       "      <th>0</th>\n",
       "      <td>True</td>\n",
       "      <td>False</td>\n",
       "      <td>False</td>\n",
       "      <td>pnk</td>\n",
       "      <td>W</td>\n",
       "      <td>False</td>\n",
       "      <td>41.857908</td>\n",
       "      <td>-87.669147</td>\n",
       "      <td>40830</td>\n",
       "      <td>None</td>\n",
       "      <td>False</td>\n",
       "      <td>False</td>\n",
       "      <td>False</td>\n",
       "      <td>True</td>\n",
       "      <td>False</td>\n",
       "      <td>18th (Pink Line)</td>\n",
       "      <td>18th</td>\n",
       "      <td>30162</td>\n",
       "      <td>18th (54th/Cermak-bound)</td>\n",
       "      <td>False</td>\n",
       "    </tr>\n",
       "    <tr>\n",
       "      <th>1</th>\n",
       "      <td>True</td>\n",
       "      <td>False</td>\n",
       "      <td>False</td>\n",
       "      <td>pnk</td>\n",
       "      <td>E</td>\n",
       "      <td>False</td>\n",
       "      <td>41.857908</td>\n",
       "      <td>-87.669147</td>\n",
       "      <td>40830</td>\n",
       "      <td>None</td>\n",
       "      <td>False</td>\n",
       "      <td>False</td>\n",
       "      <td>False</td>\n",
       "      <td>True</td>\n",
       "      <td>False</td>\n",
       "      <td>18th (Pink Line)</td>\n",
       "      <td>18th</td>\n",
       "      <td>30161</td>\n",
       "      <td>18th (Loop-bound)</td>\n",
       "      <td>False</td>\n",
       "    </tr>\n",
       "    <tr>\n",
       "      <th>2</th>\n",
       "      <td>True</td>\n",
       "      <td>False</td>\n",
       "      <td>False</td>\n",
       "      <td>o</td>\n",
       "      <td>N</td>\n",
       "      <td>False</td>\n",
       "      <td>41.829353</td>\n",
       "      <td>-87.680622</td>\n",
       "      <td>40120</td>\n",
       "      <td>None</td>\n",
       "      <td>True</td>\n",
       "      <td>False</td>\n",
       "      <td>False</td>\n",
       "      <td>False</td>\n",
       "      <td>False</td>\n",
       "      <td>35th/Archer (Orange Line)</td>\n",
       "      <td>35th/Archer</td>\n",
       "      <td>30022</td>\n",
       "      <td>35th/Archer (Loop-bound)</td>\n",
       "      <td>False</td>\n",
       "    </tr>\n",
       "    <tr>\n",
       "      <th>3</th>\n",
       "      <td>True</td>\n",
       "      <td>False</td>\n",
       "      <td>False</td>\n",
       "      <td>o</td>\n",
       "      <td>S</td>\n",
       "      <td>False</td>\n",
       "      <td>41.829353</td>\n",
       "      <td>-87.680622</td>\n",
       "      <td>40120</td>\n",
       "      <td>None</td>\n",
       "      <td>True</td>\n",
       "      <td>False</td>\n",
       "      <td>False</td>\n",
       "      <td>False</td>\n",
       "      <td>False</td>\n",
       "      <td>35th/Archer (Orange Line)</td>\n",
       "      <td>35th/Archer</td>\n",
       "      <td>30023</td>\n",
       "      <td>35th/Archer (Midway-bound)</td>\n",
       "      <td>False</td>\n",
       "    </tr>\n",
       "    <tr>\n",
       "      <th>4</th>\n",
       "      <td>True</td>\n",
       "      <td>False</td>\n",
       "      <td>False</td>\n",
       "      <td>g</td>\n",
       "      <td>S</td>\n",
       "      <td>True</td>\n",
       "      <td>41.831677</td>\n",
       "      <td>-87.625826</td>\n",
       "      <td>41120</td>\n",
       "      <td>None</td>\n",
       "      <td>False</td>\n",
       "      <td>False</td>\n",
       "      <td>False</td>\n",
       "      <td>False</td>\n",
       "      <td>False</td>\n",
       "      <td>35th-Bronzeville-IIT (Green Line)</td>\n",
       "      <td>35th-Bronzeville-IIT</td>\n",
       "      <td>30214</td>\n",
       "      <td>35-Bronzeville-IIT (63rd-bound)</td>\n",
       "      <td>False</td>\n",
       "    </tr>\n",
       "  </tbody>\n",
       "</table>\n",
       "</div>"
      ],
      "text/plain": [
       "    ada   blue    brn color direction_id      g   latitude  longitude map_id  \\\n",
       "0  True  False  False   pnk            W  False  41.857908 -87.669147  40830   \n",
       "1  True  False  False   pnk            E  False  41.857908 -87.669147  40830   \n",
       "2  True  False  False     o            N  False  41.829353 -87.680622  40120   \n",
       "3  True  False  False     o            S  False  41.829353 -87.680622  40120   \n",
       "4  True  False  False     g            S   True  41.831677 -87.625826  41120   \n",
       "\n",
       "  needs_recording      o      p   pexp    pnk    red  \\\n",
       "0            None  False  False  False   True  False   \n",
       "1            None  False  False  False   True  False   \n",
       "2            None   True  False  False  False  False   \n",
       "3            None   True  False  False  False  False   \n",
       "4            None  False  False  False  False  False   \n",
       "\n",
       "            station_descriptive_name          station_name stop_id  \\\n",
       "0                   18th (Pink Line)                  18th   30162   \n",
       "1                   18th (Pink Line)                  18th   30161   \n",
       "2          35th/Archer (Orange Line)           35th/Archer   30022   \n",
       "3          35th/Archer (Orange Line)           35th/Archer   30023   \n",
       "4  35th-Bronzeville-IIT (Green Line)  35th-Bronzeville-IIT   30214   \n",
       "\n",
       "                         stop_name      y  \n",
       "0         18th (54th/Cermak-bound)  False  \n",
       "1                18th (Loop-bound)  False  \n",
       "2         35th/Archer (Loop-bound)  False  \n",
       "3       35th/Archer (Midway-bound)  False  \n",
       "4  35-Bronzeville-IIT (63rd-bound)  False  "
      ]
     },
     "execution_count": 8,
     "metadata": {},
     "output_type": "execute_result"
    }
   ],
   "source": [
    "stations = trains.lstation_data()\n",
    "stations.head()"
   ]
  },
  {
   "cell_type": "markdown",
   "metadata": {},
   "source": [
    "As always, there is some cleanup involved (\"Ran Ryan\" is a stop? You sure about that?).\n",
    "\n",
    "Every physical train station in the above has two or more lines associated with it for the two or more outbound tracks (some have four). There also is no semblence of order to those stations, so I had to build that myself."
   ]
  },
  {
   "cell_type": "code",
   "execution_count": 9,
   "metadata": {
    "collapsed": false
   },
   "outputs": [
    {
     "data": {
      "text/plain": [
       "['Kimball (Brown Line)',\n",
       " 'Kedzie (Brown Line)',\n",
       " 'Francisco (Brown Line)',\n",
       " 'Rockwell (Brown Line)',\n",
       " 'Western (Brown Line)',\n",
       " 'Damen (Brown Line)',\n",
       " 'Montrose (Brown Line)',\n",
       " 'Irving Park (Brown Line)',\n",
       " 'Addison (Brown Line)',\n",
       " 'Paulina (Brown Line)']"
      ]
     },
     "execution_count": 9,
     "metadata": {},
     "output_type": "execute_result"
    }
   ],
   "source": [
    "stationorder = trains.station_order()\n",
    "stationorder['brn'][:10]"
   ]
  },
  {
   "cell_type": "code",
   "execution_count": 10,
   "metadata": {
    "collapsed": false
   },
   "outputs": [
    {
     "name": "stdout",
     "output_type": "stream",
     "text": [
      "len(oldcols) = 20\n",
      "len(newcols) = 21\n",
      "difference   = set(['line_order'])\n"
     ]
    }
   ],
   "source": [
    "oldcols = set(stations.columns)\n",
    "trains.add_line_order(stations, stationorder)\n",
    "newcols = set(stations.columns)\n",
    "print \"len(oldcols) = {}\".format(len(oldcols))\n",
    "print \"len(newcols) = {}\".format(len(newcols))\n",
    "print \"difference   = {}\".format(newcols.difference(oldcols))"
   ]
  },
  {
   "cell_type": "code",
   "execution_count": 11,
   "metadata": {
    "collapsed": false
   },
   "outputs": [
    {
     "data": {
      "text/html": [
       "<div>\n",
       "<table border=\"1\" class=\"dataframe\">\n",
       "  <thead>\n",
       "    <tr style=\"text-align: right;\">\n",
       "      <th></th>\n",
       "      <th>station_descriptive_name</th>\n",
       "      <th>line_order</th>\n",
       "    </tr>\n",
       "  </thead>\n",
       "  <tbody>\n",
       "    <tr>\n",
       "      <th>0</th>\n",
       "      <td>18th (Pink Line)</td>\n",
       "      <td>9</td>\n",
       "    </tr>\n",
       "    <tr>\n",
       "      <th>1</th>\n",
       "      <td>18th (Pink Line)</td>\n",
       "      <td>9</td>\n",
       "    </tr>\n",
       "    <tr>\n",
       "      <th>2</th>\n",
       "      <td>35th/Archer (Orange Line)</td>\n",
       "      <td>4</td>\n",
       "    </tr>\n",
       "    <tr>\n",
       "      <th>3</th>\n",
       "      <td>35th/Archer (Orange Line)</td>\n",
       "      <td>4</td>\n",
       "    </tr>\n",
       "    <tr>\n",
       "      <th>4</th>\n",
       "      <td>35th-Bronzeville-IIT (Green Line)</td>\n",
       "      <td>21</td>\n",
       "    </tr>\n",
       "  </tbody>\n",
       "</table>\n",
       "</div>"
      ],
      "text/plain": [
       "            station_descriptive_name  line_order\n",
       "0                   18th (Pink Line)           9\n",
       "1                   18th (Pink Line)           9\n",
       "2          35th/Archer (Orange Line)           4\n",
       "3          35th/Archer (Orange Line)           4\n",
       "4  35th-Bronzeville-IIT (Green Line)          21"
      ]
     },
     "execution_count": 11,
     "metadata": {},
     "output_type": "execute_result"
    }
   ],
   "source": [
    "stations[['station_descriptive_name', 'line_order']].head()"
   ]
  },
  {
   "cell_type": "markdown",
   "metadata": {},
   "source": [
    "Of course, this dataframe isn't itself ordered by line order -- I've written a function for that. Overkill, I know"
   ]
  },
  {
   "cell_type": "code",
   "execution_count": 12,
   "metadata": {
    "collapsed": false
   },
   "outputs": [
    {
     "data": {
      "text/html": [
       "<div>\n",
       "<table border=\"1\" class=\"dataframe\">\n",
       "  <thead>\n",
       "    <tr style=\"text-align: right;\">\n",
       "      <th></th>\n",
       "      <th>station_descriptive_name</th>\n",
       "      <th>line_order</th>\n",
       "    </tr>\n",
       "  </thead>\n",
       "  <tbody>\n",
       "    <tr>\n",
       "      <th>235</th>\n",
       "      <td>O'Hare (Blue Line)</td>\n",
       "      <td>0</td>\n",
       "    </tr>\n",
       "    <tr>\n",
       "      <th>234</th>\n",
       "      <td>O'Hare (Blue Line)</td>\n",
       "      <td>0</td>\n",
       "    </tr>\n",
       "    <tr>\n",
       "      <th>263</th>\n",
       "      <td>Rosemont (Blue Line)</td>\n",
       "      <td>1</td>\n",
       "    </tr>\n",
       "    <tr>\n",
       "      <th>262</th>\n",
       "      <td>Rosemont (Blue Line)</td>\n",
       "      <td>1</td>\n",
       "    </tr>\n",
       "    <tr>\n",
       "      <th>101</th>\n",
       "      <td>Cumberland (Blue Line)</td>\n",
       "      <td>2</td>\n",
       "    </tr>\n",
       "  </tbody>\n",
       "</table>\n",
       "</div>"
      ],
      "text/plain": [
       "    station_descriptive_name  line_order\n",
       "235       O'Hare (Blue Line)           0\n",
       "234       O'Hare (Blue Line)           0\n",
       "263     Rosemont (Blue Line)           1\n",
       "262     Rosemont (Blue Line)           1\n",
       "101   Cumberland (Blue Line)           2"
      ]
     },
     "execution_count": 12,
     "metadata": {},
     "output_type": "execute_result"
    }
   ],
   "source": [
    "orderedstations = trains.ordered_stations(stations)\n",
    "orderedstations[['station_descriptive_name', 'line_order']].head()"
   ]
  },
  {
   "cell_type": "markdown",
   "metadata": {
    "collapsed": true
   },
   "source": [
    "Once you have loaded the locations of the stations, you could, theoretically, plot the train lines. Of course, that's a pipe dream -- every denizen of a CTA rail car knows that going in a straight line from station to station is reserved for interstate tracks. For the rest of us, we have a serpentine route from A to B. To get that route down exactly, we rely, again, on our good friends at the CoCDP, who have exposed the track locations to us as a KML file (downloaded at installation by `bootstraph.sh`)"
   ]
  },
  {
   "cell_type": "code",
   "execution_count": 13,
   "metadata": {
    "collapsed": false
   },
   "outputs": [
    {
     "data": {
      "text/plain": [
       "{'ASSET_ID': '21100006',\n",
       " 'DESCRIPTION': 'Clark Junction to Belmont',\n",
       " 'LEGEND': 'RD',\n",
       " 'RAIL LINES': 'Brown, Purple (Express), Red',\n",
       " 'SEGMENT_ID': '6',\n",
       " 'TYPE': 'Elevated or at Grade',\n",
       " 'coords':    altitude   latitude  longitude\n",
       " 0         0  41.942177 -87.653454\n",
       " 1         0  41.941852 -87.653442\n",
       " 2         0  41.941457 -87.653423\n",
       " 3         0  41.940832 -87.653397\n",
       " 4         0  41.939914 -87.653383\n",
       " 5         0  41.939751 -87.653380,\n",
       " 'kml_color': 'ff0000ff',\n",
       " 'name': 'Brown, Purple (Express), Red',\n",
       " 'rgba_color': {'a': 'ff', 'b': '00', 'g': '00', 'r': 'ff'},\n",
       " 'styleUrl': '#LineStyle00'}"
      ]
     },
     "execution_count": 13,
     "metadata": {},
     "output_type": "execute_result"
    }
   ],
   "source": [
    "llines = trains.load_line_coords()\n",
    "llines[0]"
   ]
  },
  {
   "cell_type": "markdown",
   "metadata": {
    "collapsed": true
   },
   "source": [
    "The above could probably be parsed into a way more awesomer dataframe, but as it was, just getting individual end-to-end rail tracks into data frames in some iterable fashion was good enough for the time being."
   ]
  },
  {
   "cell_type": "markdown",
   "metadata": {
    "collapsed": true
   },
   "source": [
    "### `poleofisolation.py`"
   ]
  },
  {
   "cell_type": "code",
   "execution_count": 14,
   "metadata": {
    "collapsed": true
   },
   "outputs": [],
   "source": [
    "import cta.poleofisolation as poleofisolation"
   ]
  },
  {
   "cell_type": "markdown",
   "metadata": {},
   "source": [
    "Finally, we have our grid of \"residents\" in the city of Chicago, and we have our train stations and other plottable goodies -- let's acctually calculate some distances with `poleofisolation`.\n",
    "\n",
    "The function `isolation_distances` expects one of each of the above (a `grid` of starting locations with at least a `latitude` and a `longitude` variable, and a `stations` dataframe with the same). It then proceeds to calculate the distance between the two (lat, lng) pairs using the [haversine formula](https://en.wikipedia.org/wiki/Haversine_formula)."
   ]
  },
  {
   "cell_type": "code",
   "execution_count": 15,
   "metadata": {
    "collapsed": false
   },
   "outputs": [
    {
     "data": {
      "text/html": [
       "<div>\n",
       "<table border=\"1\" class=\"dataframe\">\n",
       "  <thead>\n",
       "    <tr style=\"text-align: right;\">\n",
       "      <th></th>\n",
       "      <th>latitude</th>\n",
       "      <th>longitude</th>\n",
       "      <th>rlatitude</th>\n",
       "      <th>rlongitude</th>\n",
       "      <th>shortest_distance</th>\n",
       "    </tr>\n",
       "  </thead>\n",
       "  <tbody>\n",
       "    <tr>\n",
       "      <th>0</th>\n",
       "      <td>41.648323</td>\n",
       "      <td>-87.616544</td>\n",
       "      <td>0.7269</td>\n",
       "      <td>-1.529197</td>\n",
       "      <td>5.138136</td>\n",
       "    </tr>\n",
       "    <tr>\n",
       "      <th>1</th>\n",
       "      <td>41.648323</td>\n",
       "      <td>-87.612342</td>\n",
       "      <td>0.7269</td>\n",
       "      <td>-1.529124</td>\n",
       "      <td>5.159692</td>\n",
       "    </tr>\n",
       "    <tr>\n",
       "      <th>2</th>\n",
       "      <td>41.648323</td>\n",
       "      <td>-87.608140</td>\n",
       "      <td>0.7269</td>\n",
       "      <td>-1.529051</td>\n",
       "      <td>5.190244</td>\n",
       "    </tr>\n",
       "    <tr>\n",
       "      <th>3</th>\n",
       "      <td>41.648323</td>\n",
       "      <td>-87.603938</td>\n",
       "      <td>0.7269</td>\n",
       "      <td>-1.528977</td>\n",
       "      <td>5.229635</td>\n",
       "    </tr>\n",
       "    <tr>\n",
       "      <th>4</th>\n",
       "      <td>41.648323</td>\n",
       "      <td>-87.599736</td>\n",
       "      <td>0.7269</td>\n",
       "      <td>-1.528904</td>\n",
       "      <td>5.277667</td>\n",
       "    </tr>\n",
       "  </tbody>\n",
       "</table>\n",
       "</div>"
      ],
      "text/plain": [
       "    latitude  longitude  rlatitude  rlongitude  shortest_distance\n",
       "0  41.648323 -87.616544     0.7269   -1.529197           5.138136\n",
       "1  41.648323 -87.612342     0.7269   -1.529124           5.159692\n",
       "2  41.648323 -87.608140     0.7269   -1.529051           5.190244\n",
       "3  41.648323 -87.603938     0.7269   -1.528977           5.229635\n",
       "4  41.648323 -87.599736     0.7269   -1.528904           5.277667"
      ]
     },
     "execution_count": 15,
     "metadata": {},
     "output_type": "execute_result"
    }
   ],
   "source": [
    "isodists = poleofisolation.isolation_distances(grid, stations)\n",
    "isodists.head()"
   ]
  },
  {
   "cell_type": "markdown",
   "metadata": {},
   "source": [
    "The columns `rlatitude` and `rlongitude` have been introduced in the process of calculating the distance (the haversine formula requires angles in radians, and it was simpler to do that vectorize than one at a time thanks to `scipy`)."
   ]
  },
  {
   "cell_type": "markdown",
   "metadata": {},
   "source": [
    "## The Plots"
   ]
  },
  {
   "cell_type": "markdown",
   "metadata": {
    "collapsed": true
   },
   "source": [
    "All of the above methods are called into play in the central plotting package, `mapplots`"
   ]
  },
  {
   "cell_type": "code",
   "execution_count": 16,
   "metadata": {
    "collapsed": true
   },
   "outputs": [],
   "source": [
    "import cta.mapplots as mapplots"
   ]
  },
  {
   "cell_type": "markdown",
   "metadata": {
    "collapsed": true
   },
   "source": [
    "I've broken up the plotting process into four main steps:\n",
    "\n",
    "1. `add_isolation_dist_colormap`: Plotting the isolation dists information as a meshed contour map\n",
    "2. `add_boundary`: Plotting the boundary of the city\n",
    "3. `add_stations`: Plotting station locations\n",
    "4. `add_l_lines`: Plotting train lines\n",
    "\n",
    "Of these, only the 3rd and 4th are very straightforward. The 1st and 2nd require some work.\n",
    "\n",
    "Because we chose to only consider a grid of points within the city boundaries, we are really working with a mesh, and not an array. The `contour` and `contourf` plotting methods within `matplotlib` don't play nice with non-array data being treated like an array.\n",
    "\n",
    "The **do**, however, play nice with `scipy.meshgrid` objects. `pandas` makes this easy enough: one quick pivot gives us an object with the three pieces we need:\n",
    "\n",
    "```python\n",
    "ipiv = isodists.pivot('longitude', 'latitude', 'shortest_distance')\n",
    "x = ipiv.columns.values\n",
    "y = ipiv.index.values\n",
    "z = ipiv.values\n",
    "xi, yi = scipy.meshgrid(x, y)\n",
    "c = subplot.contourf(yi, xi, z, N, cmap=plt.get_cmap('coolwarm_r'), **kwarg)\n",
    "```\n",
    "\n",
    "As for the boundary, as I mentioned above we have a boundary with both inner and outer loops. Out of the box, matplotlib will plot this with connections between the loops, resulting in giant shards running from O'Hare to the south side. I think everyone would love if there really were some physical straight-shot connection between Mount Greenwood and O'Hare, but there isn't, so let's not pretend there is. The solution is to group the boundary data frame by the `loop` variable, and use `pandas` built-in integration with matplotlib for groupby objects\n",
    "\n",
    "```python\n",
    "grouped = bpath.groupby('loop')\n",
    "grouped.plot('longitude', 'latitude', style='k-', legend=False, ax=subplot)\n",
    "```\n",
    "\n",
    "\n",
    "With all of this done, we can create our primary plot."
   ]
  },
  {
   "cell_type": "code",
   "execution_count": 18,
   "metadata": {
    "collapsed": false
   },
   "outputs": [
    {
     "data": {
      "image/png": "[encoded data removed]",
      "text/plain": [
       "<matplotlib.figure.Figure at 0x7efd63c39f50>"
      ]
     },
     "metadata": {},
     "output_type": "display_data"
    }
   ],
   "source": [
    "f = mapplots.main(bpath=bpath, grid=grid, orderedstations=orderedstations, llines=llines, isodists=isodists)"
   ]
  },
  {
   "cell_type": "markdown",
   "metadata": {},
   "source": [
    "As you can see, the areas most distant from the CTA are largely south-side neighborhoods, with the addition of quite a few neighborhoods in west/north-west Chicago. Naively, this would seem to correlate well with areas with low income families. I haven't done the full analaysis yet, of course, so I can't say that with any really definitive weight. For a back-and-forth visual comparison, check out [this intereactive map](http://www.city-data.com/income/income-Chicago-Illinois.html) at city-data.com.\n",
    "\n",
    "One other interesting observation: I haven't collected Metra information yet, but I think that the long white streak which is equidistant between the blue and green lines on the upper northwest side of the city may well be covered, almost exactly, by the MD-W line."
   ]
  }
 ],
 "metadata": {
  "kernelspec": {
   "display_name": "Python 2",
   "language": "python",
   "name": "python2"
  },
  "language_info": {
   "codemirror_mode": {
    "name": "ipython",
    "version": 2
   },
   "file_extension": ".py",
   "mimetype": "text/x-python",
   "name": "python",
   "nbconvert_exporter": "python",
   "pygments_lexer": "ipython2",
   "version": "2.7.10"
  }
 },
 "nbformat": 4,
 "nbformat_minor": 0
}
